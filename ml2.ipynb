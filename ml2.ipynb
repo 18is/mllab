{
 "cells": [
  {
   "cell_type": "code",
   "execution_count": 18,
   "metadata": {},
   "outputs": [],
   "source": [
    "import pandas as pd\n",
    "import numpy as np\n",
    "df=pd.read_csv('kmeans.csv')"
   ]
  },
  {
   "cell_type": "code",
   "execution_count": 19,
   "metadata": {},
   "outputs": [
    {
     "name": "stdout",
     "output_type": "stream",
     "text": [
      "     a    b\n",
      "0  5.9  3.2\n",
      "1  4.6  2.9\n",
      "2  6.2  2.8\n",
      "3  4.7  3.8\n",
      "4  5.0  3.0\n",
      "5  4.0  3.6\n",
      "6  5.7  2.8\n",
      "7  4.6  4.0\n",
      "8  5.2  5.7\n",
      "9  6.0  3.0\n"
     ]
    }
   ],
   "source": [
    "print (df)\n"
   ]
  },
  {
   "cell_type": "code",
   "execution_count": 21,
   "metadata": {},
   "outputs": [
    {
     "name": "stdout",
     "output_type": "stream",
     "text": [
      "[5.9 4.6 6.2 4.7 5.  4.  5.7 4.6 5.2 6. ]\n"
     ]
    }
   ],
   "source": [
    "x1 = df['a'].values\n",
    "x2 = df['b'].values\n",
    "print(x1)"
   ]
  },
  {
   "cell_type": "code",
   "execution_count": 23,
   "metadata": {},
   "outputs": [
    {
     "name": "stdout",
     "output_type": "stream",
     "text": [
      "[3.2 2.9 2.8 3.8 3.  3.6 2.8 4.  5.7 3. ]\n"
     ]
    }
   ],
   "source": [
    "print(x2)"
   ]
  },
  {
   "cell_type": "code",
   "execution_count": 22,
   "metadata": {},
   "outputs": [],
   "source": [
    "c_x=[6.2,6.6,6.5]\n",
    "c_y=[3.2,3.7,3.0]"
   ]
  },
  {
   "cell_type": "code",
   "execution_count": 25,
   "metadata": {},
   "outputs": [],
   "source": [
    "cen=np.array(list(zip(x1,x2)))"
   ]
  },
  {
   "cell_type": "code",
   "execution_count": 26,
   "metadata": {},
   "outputs": [],
   "source": [
    "centroid=np.array(list(zip(c_x,c_y)))"
   ]
  },
  {
   "cell_type": "code",
   "execution_count": 27,
   "metadata": {},
   "outputs": [
    {
     "name": "stdout",
     "output_type": "stream",
     "text": [
      "[[6.2 3.2]\n",
      " [6.6 3.7]\n",
      " [6.5 3. ]]\n"
     ]
    }
   ],
   "source": [
    "print(centroid)"
   ]
  },
  {
   "cell_type": "code",
   "execution_count": 29,
   "metadata": {},
   "outputs": [
    {
     "name": "stdout",
     "output_type": "stream",
     "text": [
      "0.2999999999999998\n",
      "\n",
      "\n",
      "0.8602325267042621\n",
      "\n",
      "\n",
      "0.6324555320336757\n",
      "\n",
      "\n",
      "1.6278820596099712\n",
      "\n",
      "\n",
      "2.154065922853802\n",
      "\n",
      "\n",
      "1.902629759044045\n",
      "\n",
      "\n",
      "0.40000000000000036\n",
      "\n",
      "\n",
      "0.9848857801796106\n",
      "\n",
      "\n",
      "0.3605551275463989\n",
      "\n",
      "\n",
      "1.6155494421403511\n",
      "\n",
      "\n",
      "1.9026297590440442\n",
      "\n",
      "\n",
      "1.9697715603592207\n",
      "\n",
      "\n",
      "1.216552506059644\n",
      "\n",
      "\n",
      "1.7464249196572978\n",
      "\n",
      "\n",
      "1.5\n",
      "\n",
      "\n",
      "2.23606797749979\n",
      "\n",
      "\n",
      "2.601922366251537\n",
      "\n",
      "\n",
      "2.570992026436488\n",
      "\n",
      "\n",
      "0.6403124237432851\n",
      "\n",
      "\n",
      "1.2727922061357855\n",
      "\n",
      "\n",
      "0.8246211251235319\n",
      "\n",
      "\n",
      "1.7888543819998322\n",
      "\n",
      "\n",
      "2.0223748416156684\n",
      "\n",
      "\n",
      "2.147091055358389\n",
      "\n",
      "\n",
      "2.692582403567252\n",
      "\n",
      "\n",
      "2.44131112314674\n",
      "\n",
      "\n",
      "2.9966648127543394\n",
      "\n",
      "\n",
      "0.2828427124746193\n",
      "\n",
      "\n",
      "0.9219544457292886\n",
      "\n",
      "\n",
      "0.5\n",
      "\n",
      "\n"
     ]
    }
   ],
   "source": [
    "for i in cen:\n",
    "    for j in centroid:\n",
    "        value=np.linalg.norm(j-i)\n",
    "        print(value)\n",
    "        print(\"\\n\")"
   ]
  },
  {
   "cell_type": "code",
   "execution_count": null,
   "metadata": {},
   "outputs": [],
   "source": [
    "import math\n",
    "for i in x:\n",
    "    for j in centroid:\n",
    "        dest = np.linalg.norm"
   ]
  }
 ],
 "metadata": {
  "kernelspec": {
   "display_name": "Python 3",
   "language": "python",
   "name": "python3"
  },
  "language_info": {
   "codemirror_mode": {
    "name": "ipython",
    "version": 3
   },
   "file_extension": ".py",
   "mimetype": "text/x-python",
   "name": "python",
   "nbconvert_exporter": "python",
   "pygments_lexer": "ipython3",
   "version": "3.8.10"
  }
 },
 "nbformat": 4,
 "nbformat_minor": 4
}
